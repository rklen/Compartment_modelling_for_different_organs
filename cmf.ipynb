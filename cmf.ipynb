{
 "cells": [
  {
   "cell_type": "code",
   "execution_count": 1,
   "metadata": {},
   "outputs": [],
   "source": [
    "import numpy as np\n",
    "import pydicom\n",
    "import nibabel as nib\n",
    "import os\n",
    "import cv2\n",
    "import matplotlib.pyplot as plt\n",
    "import pandas as pd\n",
    "from scipy.ndimage.measurements import label"
   ]
  },
  {
   "cell_type": "code",
   "execution_count": null,
   "metadata": {},
   "outputs": [],
   "source": [
    "studyCode='koveri0001'\n",
    "files=os.listdir('D:/koveri/Data/{}'.format(studyCode))\n",
    "for i in files:\n",
    "    if 'Rest' in i or 'rest' in i:\n",
    "        pathToDcmFolder='D:/koveri/Data/{}/{}/{}'.format(studyCode,i,os.listdir('D:/koveri/Data/{}/{}'.format(studyCode,i))[0])\n",
    "file='{}/{}'.format(pathToDcmFolder,os.listdir(pathToDcmFolder)[0])\n",
    "ds=pydicom.dcmread(file)\n",
    "print(ds)"
   ]
  },
  {
   "cell_type": "code",
   "execution_count": 3,
   "metadata": {},
   "outputs": [],
   "source": [
    "#suv=r*w/a, r (Bq/ml), a' (kBq), w (kg), suv unit (g/ml)"
   ]
  },
  {
   "cell_type": "code",
   "execution_count": 3,
   "metadata": {},
   "outputs": [],
   "source": [
    "def preprocessTotalSegImg(img_path):\n",
    "\n",
    "    img=nib.load(img_path)\n",
    "    img=img.get_fdata()\n",
    "    img1=np.zeros((220,220,380))\n",
    "    for i in range(380):\n",
    "        img_i=cv2.resize(img[70:442,70:442,379-i],(220,220))\n",
    "        for j in range(220):\n",
    "            img1[:,j,i]=img_i[j,:]\n",
    "    img1=cv2.flip(img1,0)\n",
    "    img1=np.round(img1,1)\n",
    "    return(img1)\n",
    "\n",
    "def organTAC(img4d,img,indexList):\n",
    "\n",
    "    #create another image matrix where the values within the greatest connected component of the target are 1 and the others are 0\n",
    "    img1=np.zeros((img.shape))\n",
    "    for j in indexList:\n",
    "        img1+=np.array(img==j,dtype=int)\n",
    "    TAC=np.zeros((24))\n",
    "    if np.max(img1)>0:\n",
    "        structure=np.ones((3,3,3),dtype=int)\n",
    "        labeled, ncomponents = label(img1,structure)\n",
    "        u1=[]\n",
    "        for u in range(1,ncomponents+1):\n",
    "            img0=np.array(labeled==u,dtype=int)\n",
    "            u1.append(np.sum(img0))\n",
    "        u=np.argmax(u1)+1\n",
    "        img1=np.array(labeled==u,dtype=int)\n",
    "        #find the smallest rectangle containing the greatest connected component of the target by studying the maximums\n",
    "        k5=0\n",
    "        while(np.max(img1[:,:,k5])==0):\n",
    "            k5+=1\n",
    "        k6=k5\n",
    "        while((np.max(img1[:,:,k6])>0) & (k6<379)):\n",
    "            k6+=1\n",
    "        k3=0\n",
    "        while(np.max(img1[:,k3,k5:k6])==0):\n",
    "            k3+=1\n",
    "        k4=k3\n",
    "        while((np.max(img1[:,k4,k5:k6])>0) & (k4<219)):\n",
    "            k4+=1\n",
    "        k1=0\n",
    "        while(np.max(img1[k1,k3:k4,k5:k6])==0):\n",
    "            k1+=1\n",
    "        k2=k1\n",
    "        while((np.max(img1[k2,k3:k4,k5:k6])>0) & (k2<219)):\n",
    "            k2+=1\n",
    "        #find the mean value TAC\n",
    "        for i in range(24):\n",
    "            TAC[i]=np.sum(img4d[k1:k2,k3:k4,k5:k6,i]*img1[k1:k2,k3:k4,k5:k6])/np.sum(img1[k1:k2,k3:k4,k5:k6])\n",
    "    return(TAC)"
   ]
  },
  {
   "cell_type": "code",
   "execution_count": 78,
   "metadata": {},
   "outputs": [
    {
     "name": "stdout",
     "output_type": "stream",
     "text": [
      "[  5.  10.  15.  20.  25.  30.  35.  40.  45.  50.  55.  60.  65.  70.\n",
      "  80.  90. 100. 120. 140. 160. 190. 220. 250. 280.]\n"
     ]
    }
   ],
   "source": [
    "intervals=np.array(14*[5]+3*[10]+3*[20]+4*[30])\n",
    "t=np.zeros(24)\n",
    "for i in range(24):\n",
    "    t[i]=np.sum(intervals[0:(i+1)])\n",
    "print(t)"
   ]
  },
  {
   "cell_type": "code",
   "execution_count": 11,
   "metadata": {},
   "outputs": [
    {
     "name": "stdout",
     "output_type": "stream",
     "text": [
      "0\n",
      "1\n",
      "2\n",
      "3\n",
      "4\n",
      "5\n",
      "6\n",
      "7\n",
      "8\n",
      "9\n",
      "10\n",
      "11\n",
      "12\n",
      "13\n",
      "14\n",
      "15\n",
      "16\n",
      "17\n",
      "18\n",
      "19\n",
      "20\n",
      "0\n",
      "1\n",
      "2\n",
      "3\n",
      "4\n",
      "5\n",
      "6\n",
      "7\n",
      "8\n",
      "9\n",
      "10\n",
      "11\n",
      "12\n",
      "13\n",
      "14\n",
      "15\n",
      "16\n",
      "17\n",
      "18\n",
      "19\n",
      "20\n"
     ]
    }
   ],
   "source": [
    "for ind in range(45,47):\n",
    "    studyCode=['koveri0001','koveri0002','koveri0003','koveri0004','koveri0005','koveri0006','koveri0007','koveri0008','koveri0009',\n",
    "               'koveri0010','koveri0011','koveri0012','koveri0013','koveri0014','koveri0015','koveri0016','koveri0017','koveri0018',\n",
    "               'koveri0019','koveri0020','koveri0021','koveri0022','koveri0023','koveri0024','koveri0025','koveri0026','koveri0027',\n",
    "               'koveri0028','koveri0029','koveri0030','koveri0031','koveri0032','koveri0033','koveri0034','koveri0035','koveri0036',\n",
    "               'koveri0037','koveri0038','koveri0039','koveri0040','koveri0041','koveri0042','koveri0043','koveri0044','koveri0045',\n",
    "               'koveri0046','koveri0047','koveri0048','koveri0049','koveri0050'][ind]\n",
    "    w=[90,94,79,85,73,82,81,108,63,92,64,117,99,59,89,100,103,101,78,86,87,77,114,81,90,78,65,94,121,61,95,64,60,92,101,69,62,64,132,\n",
    "       98,130,67,123,80,'unknown',102,93,76][ind]\n",
    "    dose=[355,356,351,308,316,336,364,354,350,406,357,319,334,350,356,341,339,332,324,322,408,402,364,385,363,334,380,364,336,351,\n",
    "          362,366,396,390,359,364,334,345,379,390,348,366,321,332,295,370,356,371][ind]\n",
    "\n",
    "    files=os.listdir('D:/koveri/Data/{}'.format(studyCode))\n",
    "    for i in files:\n",
    "        if 'segments.nii' in i:\n",
    "            img_path='D:/koveri/Data/{}/{}'.format(studyCode,i)\n",
    "        if 'Rest' in i or 'rest' in i:\n",
    "            pathToDcmFolder='D:/koveri/Data/{}/{}/{}'.format(studyCode,i,os.listdir('D:/koveri/Data/{}/{}'.format(studyCode,i))[0])\n",
    "\n",
    "    times=[]\n",
    "    locs=[]\n",
    "    for i in range(len(os.listdir(pathToDcmFolder))):\n",
    "        file='{}/{}'.format(pathToDcmFolder,os.listdir(pathToDcmFolder)[i])\n",
    "        ds=pydicom.dcmread(file)\n",
    "        times.append(ds.AcquisitionTime)\n",
    "        locs.append(ds.SliceLocation)\n",
    "    uniTimes=np.sort(np.unique(np.array(times)))\n",
    "    uniLocs=np.sort(np.unique(np.array(locs)))\n",
    "\n",
    "    img4d=np.zeros((220,220,380,24))\n",
    "    for k in range(24):\n",
    "        for i in range(len(os.listdir(pathToDcmFolder))):\n",
    "            if times[i]==uniTimes[k]:\n",
    "                file='{}/{}'.format(pathToDcmFolder,os.listdir(pathToDcmFolder)[i])\n",
    "                ds=pydicom.dcmread(file)\n",
    "                for j in range(len(uniLocs)):\n",
    "                    if uniLocs[j]==locs[i]:\n",
    "                        img4d[:,:,j,k]=cv2.resize(ds.pixel_array*ds[0x0028, 0x1053].value,(220,220))+ds[0x0028, 0x1052].value\n",
    "\n",
    "    img=preprocessTotalSegImg(img_path)\n",
    "\n",
    "    indexes=[[3],[6],[24],[41],[42],[43],[44],[45],[40],[77],[46],[38],[39],[9],[80],[17],[19],[36],[30],[70],[98]]\n",
    "    array=np.zeros((21,24))\n",
    "    for i in range(21):\n",
    "        array[i,:]=organTAC(img4d,img,indexes[i])\n",
    "        print(i)\n",
    "    array=array*0.001*w/dose\n",
    "    df=pd.DataFrame(array)\n",
    "    df.to_csv('array_{}.csv'.format(studyCode))"
   ]
  },
  {
   "cell_type": "code",
   "execution_count": 10,
   "metadata": {},
   "outputs": [
    {
     "data": {
      "text/plain": [
       "[<matplotlib.lines.Line2D at 0x285458aad90>]"
      ]
     },
     "execution_count": 10,
     "metadata": {},
     "output_type": "execute_result"
    },
    {
     "data": {
      "image/png": "[encoded data removed]",
      "text/plain": [
       "<Figure size 432x288 with 1 Axes>"
      ]
     },
     "metadata": {
      "needs_background": "light"
     },
     "output_type": "display_data"
    }
   ],
   "source": [
    "plt.plot(t,array[3,:],color='blue')"
   ]
  },
  {
   "cell_type": "code",
   "execution_count": 3,
   "metadata": {},
   "outputs": [],
   "source": [
    "ind=13\n",
    "studyCode=['koveri0001','koveri0002','koveri0003','koveri0004','koveri0005','koveri0006','koveri0007','koveri0008','koveri0009',\n",
    "               'koveri0010','koveri0011','koveri0012','koveri0013','koveri0014','koveri0015','koveri0016','koveri0017','koveri0018',\n",
    "               'koveri0019','koveri0020','koveri0021','koveri0022','koveri0023','koveri0024','koveri0025','koveri0026','koveri0027',\n",
    "               'koveri0028','koveri0029','koveri0030','koveri0031','koveri0032','koveri0033','koveri0034','koveri0035','koveri0036',\n",
    "               'koveri0037','koveri0038','koveri0039','koveri0040','koveri0041','koveri0042','koveri0043','koveri0044','koveri0045',\n",
    "               'koveri0046','koveri0047','koveri0048','koveri0049','koveri0050'][ind]\n",
    "w=[90,94,79,85,73,82,81,108,63,92,64,117,99,59,89,100,103,101,78,86,87,77,114,81,90,78,65,94,121,61,95,64,60,92,101,69,62,64,132,\n",
    "       98,130,67,123,80,'unknown',102,93,76][ind]\n",
    "dose=[355,356,351,308,316,336,364,354,350,406,357,319,334,350,356,341,339,332,324,322,408,402,364,385,363,334,380,364,336,351,\n",
    "          362,366,396,390,359,364,334,345,379,390,348,366,321,332,295,370,356,371][ind]\n",
    "\n",
    "files=os.listdir('D:/koveri/Data/{}'.format(studyCode))\n",
    "for i in files:\n",
    "    if 'segments.nii' in i:\n",
    "        img_path='D:/koveri/Data/{}/{}'.format(studyCode,i)\n",
    "    if 'Rest' in i or 'rest' in i:\n",
    "        pathToDcmFolder='D:/koveri/Data/{}/{}/{}'.format(studyCode,i,os.listdir('D:/koveri/Data/{}/{}'.format(studyCode,i))[0])\n",
    "\n",
    "times=[]\n",
    "locs=[]\n",
    "for i in range(len(os.listdir(pathToDcmFolder))):\n",
    "    file='{}/{}'.format(pathToDcmFolder,os.listdir(pathToDcmFolder)[i])\n",
    "    ds=pydicom.dcmread(file)\n",
    "    times.append(ds.AcquisitionTime)\n",
    "    locs.append(ds.SliceLocation)\n",
    "uniTimes=np.sort(np.unique(np.array(times)))\n",
    "uniLocs=np.sort(np.unique(np.array(locs)))\n",
    "\n",
    "img4d=np.zeros((220,220,380,24))\n",
    "for k in range(24):\n",
    "    for i in range(len(os.listdir(pathToDcmFolder))):\n",
    "        if times[i]==uniTimes[k]:\n",
    "            file='{}/{}'.format(pathToDcmFolder,os.listdir(pathToDcmFolder)[i])\n",
    "            ds=pydicom.dcmread(file)\n",
    "            for j in range(len(uniLocs)):\n",
    "                if uniLocs[j]==locs[i]:\n",
    "                    img4d[:,:,j,k]=cv2.resize(ds.pixel_array*ds[0x0028, 0x1053].value,(220,220))+ds[0x0028, 0x1052].value"
   ]
  },
  {
   "cell_type": "code",
   "execution_count": null,
   "metadata": {},
   "outputs": [],
   "source": [
    "fig, axes = plt.subplots(nrows=2, ncols=2)\n",
    "for ax in axes.flat:\n",
    "    im = ax.imshow(np.random.random((10,10)), vmin=0, vmax=1)\n",
    "\n",
    "fig.subplots_adjust(right=0.8)\n",
    "cbar_ax = fig.add_axes([0.85, 0.15, 0.05, 0.7])\n",
    "fig.colorbar(im, cax=cbar_ax)\n",
    "\n",
    "plt.show()"
   ]
  },
  {
   "cell_type": "code",
   "execution_count": 128,
   "metadata": {},
   "outputs": [
    {
     "data": {
      "text/plain": [
       "90.0"
      ]
     },
     "execution_count": 128,
     "metadata": {},
     "output_type": "execute_result"
    }
   ],
   "source": [
    "t[15]"
   ]
  },
  {
   "cell_type": "code",
   "execution_count": 131,
   "metadata": {},
   "outputs": [
    {
     "data": {
      "image/png": "[encoded data removed]",
      "text/plain": [
       "<Figure size 432x288 with 2 Axes>"
      ]
     },
     "metadata": {
      "needs_background": "light"
     },
     "output_type": "display_data"
    }
   ],
   "source": [
    "img=img4d[115,:,:,0]*0.001*w/dose\n",
    "plt.imshow(cv2.rotate(img,cv2.cv2.ROTATE_90_CLOCKWISE),cmap='gray_r')\n",
    "plt.axis('off')\n",
    "plt.colorbar(label='SUV (g/ml)')\n",
    "fig=plt.gcf()\n",
    "#fig.savefig('fig1_90.png',bbox_inches='tight')"
   ]
  }
 ],
 "metadata": {
  "kernelspec": {
   "display_name": "Python 3",
   "language": "python",
   "name": "python3"
  },
  "language_info": {
   "codemirror_mode": {
    "name": "ipython",
    "version": 3
   },
   "file_extension": ".py",
   "mimetype": "text/x-python",
   "name": "python",
   "nbconvert_exporter": "python",
   "pygments_lexer": "ipython3",
   "version": "3.9.9"
  }
 },
 "nbformat": 4,
 "nbformat_minor": 2
}
